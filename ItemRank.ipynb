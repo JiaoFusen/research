{
 "cells": [
  {
   "cell_type": "code",
   "execution_count": 1,
   "metadata": {
    "collapsed": true
   },
   "outputs": [],
   "source": [
    "# -*- coding: utf-8 -*-\n",
    "import numpy as np\n",
    "from itertools import islice\n",
    "from sklearn.model_selection import train_test_split"
   ]
  },
  {
   "cell_type": "markdown",
   "metadata": {},
   "source": [
    "## 构造结点类，存储电影或者用户结点"
   ]
  },
  {
   "cell_type": "code",
   "execution_count": 2,
   "metadata": {},
   "outputs": [],
   "source": [
    "class Node(object):\n",
    "    def __init__(self):\n",
    "        self.neighbours = []"
   ]
  },
  {
   "cell_type": "markdown",
   "metadata": {},
   "source": [
    "## itemrank类，包括生成图模型，构造系数矩阵等方法"
   ]
  },
  {
   "cell_type": "code",
   "execution_count": 3,
   "metadata": {},
   "outputs": [],
   "source": [
    "class ItemRank(object):\n",
    "    def __init__(self, np_data):\n",
    "        self.movie_names = []\n",
    "        self.user_names = []\n",
    "        self.movie_nodes = {}\n",
    "        self.user_nodes = {}\n",
    "        self.data = np_data\n",
    "\n",
    "    # 生成图模型\n",
    "    def generate_graph(self):\n",
    "        # node = Node()\n",
    "        self.movie_names = list(set(self.data[:, 1]))\n",
    "        self.user_names = list(set(self.data[:, 0]))\n",
    "        self.movie_nodes = {}\n",
    "        self.user_nodes = {}\n",
    "        for movie in self.movie_names:\n",
    "            node = Node()\n",
    "            node.name = movie\n",
    "            self.movie_nodes[movie] = node\n",
    "        for user in self.user_names:\n",
    "            node = Node()\n",
    "            node.name = user\n",
    "            self.user_nodes[user] = node\n",
    "        # 如果用户看过某部电影，则将这部电影加入到用户的neighbours中；对电影同样如此\n",
    "        for i in range(len(self.data[:, 0])):\n",
    "            self.user_nodes[self.data[i, 0]].neighbours.append(self.movie_nodes[self.data[i, 1]])\n",
    "            self.movie_nodes[self.data[i, 1]].neighbours.append(self.user_nodes[self.data[i, 0]])\n",
    "\n",
    "    # 根据图模型生成相关系数矩阵\n",
    "    def generate_coef_from_graph(self):\n",
    "        print(\"******此刻正在计算相关系数矩阵......\")\n",
    "        correlation_matrix = np.zeros((len(self.movie_names), len(self.movie_names)))\n",
    "        for movie_name in self.movie_nodes.keys():\n",
    "            for user in self.movie_nodes[movie_name].neighbours:\n",
    "                for movie in user.neighbours:\n",
    "                    if movie != self.movie_nodes[movie_name]:\n",
    "                        correlation_matrix[self.movie_names.index(movie_name), self.movie_names.index(movie.name)] += 1\n",
    "        for c in range(len(correlation_matrix[1, :])):\n",
    "            correlation_matrix[:, c] /= sum(correlation_matrix[:, c])\n",
    "        self.correlation_matrix = correlation_matrix\n",
    "\n",
    "    # itemrank公式\n",
    "    def item_rank(self, alpha, ir, d):\n",
    "        print(\"******此刻正在计算IR......\")\n",
    "        return alpha * np.dot(self.correlation_matrix, ir) + (1 - alpha) * d\n",
    "\n",
    "    # 生成评分向量\n",
    "    def generate_d(self, user_name):\n",
    "        d = np.zeros(len(self.movie_names))\n",
    "        for i in range(len(self.data[:, 0])):\n",
    "            if self.data[i, 0] == user_name:\n",
    "                d[self.movie_names.index(self.data[i, 1])] = self.data[i, 2]\n",
    "        return d"
   ]
  },
  {
   "cell_type": "markdown",
   "metadata": {},
   "source": [
    "## main函数"
   ]
  },
  {
   "cell_type": "code",
   "execution_count": 4,
   "metadata": {
    "collapsed": false
   },
   "outputs": [
    {
     "name": "stderr",
     "output_type": "stream",
     "text": [
      "/Users/JiaoFusen/anaconda3/lib/python3.6/site-packages/sklearn/model_selection/_split.py:2026: FutureWarning: From version 0.21, test_size will always complement train_size unless both are specified.\n  FutureWarning)\n"
     ]
    },
    {
     "data": {
      "text/plain": [
       "array([['311', '453', '2.0', '897415324'],\n       ['365', '8644', '4.0', '1359307471'],\n       ['294', '2617', '4.5', '1106705502'],\n       ..., \n       ['33', '2891', '1.0', '1032859119'],\n       ['452', '597', '3.0', '976422186'],\n       ['152', '41566', '3.5', '1335947593']],\n      dtype='<U10')"
      ]
     },
     "execution_count": 4,
     "metadata": {},
     "output_type": "execute_result"
    }
   ],
   "source": [
    "with open(\"/Users/JiaoFusen/Desktop/ml-latest-small/ratings.csv\") as file:\n",
    "    data = []\n",
    "    for line in islice(file, 1, None):       \n",
    "        data.extend(line.rstrip(\"\\n\").split(\",\"))\n",
    "np_data = np.array(data).reshape(-1, 4)\n",
    "train_data, test_data = train_test_split(np_data, train_size=0.8)\n",
    "train_data"
   ]
  },
  {
   "cell_type": "code",
   "execution_count": 5,
   "metadata": {},
   "outputs": [],
   "source": [
    "item_rank = ItemRank(train_data)\n",
    "item_rank.generate_graph()"
   ]
  },
  {
   "cell_type": "code",
   "execution_count": 6,
   "metadata": {},
   "outputs": [
    {
     "name": "stdout",
     "output_type": "stream",
     "text": [
      "******此刻正在计算相关系数矩阵......\n"
     ]
    },
    {
     "ename": "KeyboardInterrupt",
     "evalue": "",
     "traceback": [
      "\u001b[0;31m---------------------------------------------------------------------------\u001b[0m",
      "\u001b[0;31mKeyboardInterrupt\u001b[0m                         Traceback (most recent call last)",
      "\u001b[0;32m<ipython-input-6-d3d5fc8b1092>\u001b[0m in \u001b[0;36m<module>\u001b[0;34m()\u001b[0m\n\u001b[0;32m----> 1\u001b[0;31m \u001b[0mitem_rank\u001b[0m\u001b[0;34m.\u001b[0m\u001b[0mgenerate_coef_from_graph\u001b[0m\u001b[0;34m(\u001b[0m\u001b[0;34m)\u001b[0m\u001b[0;34m\u001b[0m\u001b[0m\n\u001b[0m\u001b[1;32m      2\u001b[0m \u001b[0;31m# 选取405号用户来进行计算\u001b[0m\u001b[0;34m\u001b[0m\u001b[0;34m\u001b[0m\u001b[0m\n\u001b[1;32m      3\u001b[0m \u001b[0md\u001b[0m \u001b[0;34m=\u001b[0m \u001b[0mitem_rank\u001b[0m\u001b[0;34m.\u001b[0m\u001b[0mgenerate_d\u001b[0m\u001b[0;34m(\u001b[0m\u001b[0musername\u001b[0m\u001b[0;34m=\u001b[0m\u001b[0;36m405\u001b[0m\u001b[0;34m)\u001b[0m\u001b[0;34m\u001b[0m\u001b[0m\n\u001b[1;32m      4\u001b[0m \u001b[0mIR\u001b[0m \u001b[0;34m=\u001b[0m \u001b[0md\u001b[0m\u001b[0;34m\u001b[0m\u001b[0m\n\u001b[1;32m      5\u001b[0m \u001b[0mcovered\u001b[0m \u001b[0;34m=\u001b[0m \u001b[0;32mFalse\u001b[0m\u001b[0;34m\u001b[0m\u001b[0m\n",
      "\u001b[0;32m<ipython-input-3-dc329e72592a>\u001b[0m in \u001b[0;36mgenerate_coef_from_graph\u001b[0;34m(self)\u001b[0m\n\u001b[1;32m     35\u001b[0m                 \u001b[0;32mfor\u001b[0m \u001b[0mmovie\u001b[0m \u001b[0;32min\u001b[0m \u001b[0muser\u001b[0m\u001b[0;34m.\u001b[0m\u001b[0mneighbours\u001b[0m\u001b[0;34m:\u001b[0m\u001b[0;34m\u001b[0m\u001b[0m\n\u001b[1;32m     36\u001b[0m                     \u001b[0;32mif\u001b[0m \u001b[0mmovie\u001b[0m \u001b[0;34m!=\u001b[0m \u001b[0mself\u001b[0m\u001b[0;34m.\u001b[0m\u001b[0mmovie_nodes\u001b[0m\u001b[0;34m[\u001b[0m\u001b[0mmovie_name\u001b[0m\u001b[0;34m]\u001b[0m\u001b[0;34m:\u001b[0m\u001b[0;34m\u001b[0m\u001b[0m\n\u001b[0;32m---> 37\u001b[0;31m                         \u001b[0mcorrelation_matrix\u001b[0m\u001b[0;34m[\u001b[0m\u001b[0mself\u001b[0m\u001b[0;34m.\u001b[0m\u001b[0mmovie_names\u001b[0m\u001b[0;34m.\u001b[0m\u001b[0mindex\u001b[0m\u001b[0;34m(\u001b[0m\u001b[0mmovie_name\u001b[0m\u001b[0;34m)\u001b[0m\u001b[0;34m,\u001b[0m \u001b[0mself\u001b[0m\u001b[0;34m.\u001b[0m\u001b[0mmovie_names\u001b[0m\u001b[0;34m.\u001b[0m\u001b[0mindex\u001b[0m\u001b[0;34m(\u001b[0m\u001b[0mmovie\u001b[0m\u001b[0;34m.\u001b[0m\u001b[0mname\u001b[0m\u001b[0;34m)\u001b[0m\u001b[0;34m]\u001b[0m \u001b[0;34m+=\u001b[0m \u001b[0;36m1\u001b[0m\u001b[0;34m\u001b[0m\u001b[0m\n\u001b[0m\u001b[1;32m     38\u001b[0m         \u001b[0;32mfor\u001b[0m \u001b[0mc\u001b[0m \u001b[0;32min\u001b[0m \u001b[0mrange\u001b[0m\u001b[0;34m(\u001b[0m\u001b[0mlen\u001b[0m\u001b[0;34m(\u001b[0m\u001b[0mcorrelation_matrix\u001b[0m\u001b[0;34m[\u001b[0m\u001b[0;36m1\u001b[0m\u001b[0;34m,\u001b[0m \u001b[0;34m:\u001b[0m\u001b[0;34m]\u001b[0m\u001b[0;34m)\u001b[0m\u001b[0;34m)\u001b[0m\u001b[0;34m:\u001b[0m\u001b[0;34m\u001b[0m\u001b[0m\n\u001b[1;32m     39\u001b[0m             \u001b[0mcorrelation_matrix\u001b[0m\u001b[0;34m[\u001b[0m\u001b[0;34m:\u001b[0m\u001b[0;34m,\u001b[0m \u001b[0mc\u001b[0m\u001b[0;34m]\u001b[0m \u001b[0;34m/=\u001b[0m \u001b[0msum\u001b[0m\u001b[0;34m(\u001b[0m\u001b[0mcorrelation_matrix\u001b[0m\u001b[0;34m[\u001b[0m\u001b[0;34m:\u001b[0m\u001b[0;34m,\u001b[0m \u001b[0mc\u001b[0m\u001b[0;34m]\u001b[0m\u001b[0;34m)\u001b[0m\u001b[0;34m\u001b[0m\u001b[0m\n",
      "\u001b[0;31mKeyboardInterrupt\u001b[0m: "
     ],
     "output_type": "error"
    }
   ],
   "source": [
    "item_rank.generate_coef_from_graph()\n",
    "# 选取405号用户来进行计算\n",
    "d = item_rank.generate_d(username=405)\n",
    "IR = d\n",
    "covered = False\n",
    "counter = 0\n",
    "while not covered:\n",
    "    counter += 1\n",
    "    old_IR = IR\n",
    "    IR = item_rank.item_rank(0.85, IR, d)\n",
    "    covered = (old_IR - IR < 0.0001).all()\n",
    "print(\"after\", counter, \"counts\")\n",
    "print(\"IR now is \", IR)"
   ]
  },
  {
   "cell_type": "code",
   "execution_count": null,
   "metadata": {},
   "outputs": [],
   "source": [
    ""
   ]
  }
 ],
 "metadata": {
  "kernelspec": {
   "display_name": "Python 2",
   "language": "python",
   "name": "python2"
  },
  "language_info": {
   "codemirror_mode": {
    "name": "ipython",
    "version": 2.0
   },
   "file_extension": ".py",
   "mimetype": "text/x-python",
   "name": "python",
   "nbconvert_exporter": "python",
   "pygments_lexer": "ipython2",
   "version": "2.7.6"
  }
 },
 "nbformat": 4,
 "nbformat_minor": 0
}